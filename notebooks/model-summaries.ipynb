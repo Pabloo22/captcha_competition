{
 "cells": [
  {
   "cell_type": "code",
   "execution_count": 1,
   "metadata": {},
   "outputs": [],
   "source": [
    "from torchsummary import summary\n",
    "\n",
    "from captcha_competition.pytorch_model import (\n",
    "    ResNet,\n",
    "    EfficientNet,\n",
    ")"
   ]
  },
  {
   "cell_type": "code",
   "execution_count": 2,
   "metadata": {},
   "outputs": [
    {
     "name": "stdout",
     "output_type": "stream",
     "text": [
      "initial_filters=32\n",
      "current_filters=48\n",
      "next_filters=72\n",
      "next_filters=108\n"
     ]
    }
   ],
   "source": [
    "resnet = ResNet()\n",
    "efficientnet = EfficientNet()\n",
    "\n",
    "INPUT_SHAPE_RESNET = (3, 64, 192)\n",
    "INPUT_SHAPE_EFFICIENTNET = (3, 80, 210)"
   ]
  },
  {
   "cell_type": "code",
   "execution_count": 3,
   "metadata": {},
   "outputs": [
    {
     "name": "stdout",
     "output_type": "stream",
     "text": [
      "----------------------------------------------------------------\n",
      "        Layer (type)               Output Shape         Param #\n",
      "================================================================\n",
      "            Conv2d-1           [-1, 64, 32, 96]           9,408\n",
      "       BatchNorm2d-2           [-1, 64, 32, 96]             128\n",
      "         MaxPool2d-3           [-1, 64, 16, 48]               0\n",
      "            Conv2d-4            [-1, 64, 8, 24]          36,864\n",
      "       BatchNorm2d-5            [-1, 64, 8, 24]             128\n",
      "            Conv2d-6            [-1, 64, 8, 24]          36,864\n",
      "       BatchNorm2d-7            [-1, 64, 8, 24]             128\n",
      "            Conv2d-8            [-1, 64, 8, 24]           4,096\n",
      "       BatchNorm2d-9            [-1, 64, 8, 24]             128\n",
      "      ResNetBlock-10            [-1, 64, 8, 24]               0\n",
      "           Conv2d-11            [-1, 64, 8, 24]          36,864\n",
      "      BatchNorm2d-12            [-1, 64, 8, 24]             128\n",
      "           Conv2d-13            [-1, 64, 8, 24]          36,864\n",
      "      BatchNorm2d-14            [-1, 64, 8, 24]             128\n",
      "      ResNetBlock-15            [-1, 64, 8, 24]               0\n",
      "           Conv2d-16           [-1, 128, 4, 12]          73,728\n",
      "      BatchNorm2d-17           [-1, 128, 4, 12]             256\n",
      "           Conv2d-18           [-1, 128, 4, 12]         147,456\n",
      "      BatchNorm2d-19           [-1, 128, 4, 12]             256\n",
      "           Conv2d-20           [-1, 128, 4, 12]           8,192\n",
      "      BatchNorm2d-21           [-1, 128, 4, 12]             256\n",
      "      ResNetBlock-22           [-1, 128, 4, 12]               0\n",
      "           Conv2d-23           [-1, 128, 4, 12]         147,456\n",
      "      BatchNorm2d-24           [-1, 128, 4, 12]             256\n",
      "           Conv2d-25           [-1, 128, 4, 12]         147,456\n",
      "      BatchNorm2d-26           [-1, 128, 4, 12]             256\n",
      "      ResNetBlock-27           [-1, 128, 4, 12]               0\n",
      "           Conv2d-28            [-1, 256, 2, 6]         294,912\n",
      "      BatchNorm2d-29            [-1, 256, 2, 6]             512\n",
      "           Conv2d-30            [-1, 256, 2, 6]         589,824\n",
      "      BatchNorm2d-31            [-1, 256, 2, 6]             512\n",
      "           Conv2d-32            [-1, 256, 2, 6]          32,768\n",
      "      BatchNorm2d-33            [-1, 256, 2, 6]             512\n",
      "      ResNetBlock-34            [-1, 256, 2, 6]               0\n",
      "           Conv2d-35            [-1, 256, 2, 6]         589,824\n",
      "      BatchNorm2d-36            [-1, 256, 2, 6]             512\n",
      "           Conv2d-37            [-1, 256, 2, 6]         589,824\n",
      "      BatchNorm2d-38            [-1, 256, 2, 6]             512\n",
      "      ResNetBlock-39            [-1, 256, 2, 6]               0\n",
      "           Conv2d-40             [-1, 10, 1, 6]           5,130\n",
      "          Softmax-41                [-1, 10, 6]               0\n",
      "================================================================\n",
      "Total params: 2,792,138\n",
      "Trainable params: 2,792,138\n",
      "Non-trainable params: 0\n",
      "----------------------------------------------------------------\n",
      "Input size (MB): 0.14\n",
      "Forward/backward pass size (MB): 5.34\n",
      "Params size (MB): 10.65\n",
      "Estimated Total Size (MB): 16.14\n",
      "----------------------------------------------------------------\n"
     ]
    }
   ],
   "source": [
    "summary(resnet, INPUT_SHAPE_RESNET)"
   ]
  },
  {
   "cell_type": "code",
   "execution_count": 4,
   "metadata": {},
   "outputs": [
    {
     "name": "stdout",
     "output_type": "stream",
     "text": [
      "----------------------------------------------------------------\n",
      "        Layer (type)               Output Shape         Param #\n",
      "================================================================\n",
      "            Conv2d-1          [-1, 32, 39, 104]             864\n",
      "       BatchNorm2d-2          [-1, 32, 39, 104]              64\n",
      "            Conv2d-3          [-1, 48, 39, 104]           1,536\n",
      "       BatchNorm2d-4          [-1, 48, 39, 104]              96\n",
      "            Conv2d-5           [-1, 48, 19, 51]             432\n",
      "       BatchNorm2d-6           [-1, 48, 19, 51]              96\n",
      "            Conv2d-7           [-1, 48, 19, 51]           2,304\n",
      "       BatchNorm2d-8           [-1, 48, 19, 51]              96\n",
      "       MBConvBlock-9           [-1, 48, 19, 51]               0\n",
      "           Conv2d-10           [-1, 72, 19, 51]           3,456\n",
      "      BatchNorm2d-11           [-1, 72, 19, 51]             144\n",
      "           Conv2d-12            [-1, 72, 9, 25]             648\n",
      "      BatchNorm2d-13            [-1, 72, 9, 25]             144\n",
      "           Conv2d-14            [-1, 72, 9, 25]           5,184\n",
      "      BatchNorm2d-15            [-1, 72, 9, 25]             144\n",
      "      MBConvBlock-16            [-1, 72, 9, 25]               0\n",
      "           Conv2d-17           [-1, 108, 9, 25]           7,776\n",
      "      BatchNorm2d-18           [-1, 108, 9, 25]             216\n",
      "           Conv2d-19           [-1, 108, 4, 12]             972\n",
      "      BatchNorm2d-20           [-1, 108, 4, 12]             216\n",
      "           Conv2d-21           [-1, 108, 4, 12]          11,664\n",
      "      BatchNorm2d-22           [-1, 108, 4, 12]             216\n",
      "      MBConvBlock-23           [-1, 108, 4, 12]               0\n",
      "           Conv2d-24             [-1, 10, 1, 6]           8,650\n",
      "          Softmax-25                [-1, 10, 6]               0\n",
      "================================================================\n",
      "Total params: 44,918\n",
      "Trainable params: 44,918\n",
      "Non-trainable params: 0\n",
      "----------------------------------------------------------------\n",
      "Input size (MB): 0.19\n",
      "Forward/backward pass size (MB): 8.98\n",
      "Params size (MB): 0.17\n",
      "Estimated Total Size (MB): 9.34\n",
      "----------------------------------------------------------------\n"
     ]
    }
   ],
   "source": [
    "summary(efficientnet, INPUT_SHAPE_EFFICIENTNET)"
   ]
  }
 ],
 "metadata": {
  "kernelspec": {
   "display_name": "captcha-competition-I4odDXLV-py3.11",
   "language": "python",
   "name": "python3"
  },
  "language_info": {
   "codemirror_mode": {
    "name": "ipython",
    "version": 3
   },
   "file_extension": ".py",
   "mimetype": "text/x-python",
   "name": "python",
   "nbconvert_exporter": "python",
   "pygments_lexer": "ipython3",
   "version": "3.11.8"
  }
 },
 "nbformat": 4,
 "nbformat_minor": 2
}
